{
 "cells": [
  {
   "cell_type": "code",
   "execution_count": 2,
   "id": "c5080a74-f536-43e5-84de-d0daa155edf1",
   "metadata": {},
   "outputs": [
    {
     "name": "stdout",
     "output_type": "stream",
     "text": [
      "Index(['Unnamed: 0', 'Company', 'TypeName', 'Inches', 'ScreenResolution',\n",
      "       'Cpu', 'Ram', 'Memory', 'Gpu', 'OpSys', 'Weight', 'Price'],\n",
      "      dtype='object')\n"
     ]
    }
   ],
   "source": [
    "import pandas as pd\n",
    "\n",
    "# Load your dataset\n",
    "df = pd.read_csv('laptop_data.csv')\n",
    "\n",
    "# Print column names\n",
    "print(df.columns)\n"
   ]
  },
  {
   "cell_type": "code",
   "execution_count": 3,
   "id": "f050ff0f-b5c2-49a3-ab37-ccc6ae9121fe",
   "metadata": {},
   "outputs": [
    {
     "name": "stdout",
     "output_type": "stream",
     "text": [
      "Brands: ['Apple', 'HP', 'Acer', 'Asus', 'Dell', 'Lenovo', 'Chuwi', 'MSI', 'Microsoft', 'Toshiba', 'Huawei', 'Xiaomi', 'Vero', 'Razer', 'Mediacom', 'Samsung', 'Google', 'Fujitsu', 'LG']\n",
      "Types: ['Ultrabook', 'Notebook', 'Netbook', 'Gaming', '2 in 1 Convertible', 'Workstation']\n",
      "Processors: ['Intel Core i5 2.3GHz', 'Intel Core i5 1.8GHz', 'Intel Core i5 7200U 2.5GHz', 'Intel Core i7 2.7GHz', 'Intel Core i5 3.1GHz', 'AMD A9-Series 9420 3GHz', 'Intel Core i7 2.2GHz', 'Intel Core i7 8550U 1.8GHz', 'Intel Core i5 8250U 1.6GHz', 'Intel Core i3 6006U 2GHz', 'Intel Core i7 2.8GHz', 'Intel Core M m3 1.2GHz', 'Intel Core i7 7500U 2.7GHz', 'Intel Core i7 2.9GHz', 'Intel Core i3 7100U 2.4GHz', 'Intel Atom x5-Z8350 1.44GHz', 'Intel Core i5 7300HQ 2.5GHz', 'AMD E-Series E2-9000e 1.5GHz', 'Intel Core i5 1.6GHz', 'Intel Core i7 8650U 1.9GHz', 'Intel Atom x5-Z8300 1.44GHz', 'AMD E-Series E2-6110 1.5GHz', 'AMD A6-Series 9220 2.5GHz', 'Intel Celeron Dual Core N3350 1.1GHz', 'Intel Core i3 7130U 2.7GHz', 'Intel Core i7 7700HQ 2.8GHz', 'Intel Core i5 2.0GHz', 'AMD Ryzen 1700 3GHz', 'Intel Pentium Quad Core N4200 1.1GHz', 'Intel Atom x5-Z8550 1.44GHz', 'Intel Celeron Dual Core N3060 1.6GHz', 'Intel Core i5 1.3GHz', 'AMD FX 9830P 3GHz', 'Intel Core i7 7560U 2.4GHz', 'AMD E-Series 6110 1.5GHz', 'Intel Core i5 6200U 2.3GHz', 'Intel Core M 6Y75 1.2GHz', 'Intel Core i5 7500U 2.7GHz', 'Intel Core i3 6006U 2.2GHz', 'AMD A6-Series 9220 2.9GHz', 'Intel Core i7 6920HQ 2.9GHz', 'Intel Core i5 7Y54 1.2GHz', 'Intel Core i7 7820HK 2.9GHz', 'Intel Xeon E3-1505M V6 3GHz', 'Intel Core i7 6500U 2.5GHz', 'AMD E-Series 9000e 1.5GHz', 'AMD A10-Series A10-9620P 2.5GHz', 'AMD A6-Series A6-9220 2.5GHz', 'Intel Core i5 2.9GHz', 'Intel Core i7 6600U 2.6GHz', 'Intel Core i3 6006U 2.0GHz', 'Intel Celeron Dual Core 3205U 1.5GHz', 'Intel Core i7 7820HQ 2.9GHz', 'AMD A10-Series 9600P 2.4GHz', 'Intel Core i7 7600U 2.8GHz', 'AMD A8-Series 7410 2.2GHz', 'Intel Celeron Dual Core 3855U 1.6GHz', 'Intel Pentium Quad Core N3710 1.6GHz', 'AMD A12-Series 9720P 2.7GHz', 'Intel Core i5 7300U 2.6GHz', 'AMD A12-Series 9720P 3.6GHz', 'Intel Celeron Quad Core N3450 1.1GHz', 'Intel Celeron Dual Core N3060 1.60GHz', 'Intel Core i5 6440HQ 2.6GHz', 'Intel Core i7 6820HQ 2.7GHz', 'AMD Ryzen 1600 3.2GHz', 'Intel Core i7 7Y75 1.3GHz', 'Intel Core i5 7440HQ 2.8GHz', 'Intel Core i7 7660U 2.5GHz', 'Intel Core i7 7700HQ 2.7GHz', 'Intel Core M m3-7Y30 2.2GHz', 'Intel Core i5 7Y57 1.2GHz', 'Intel Core i7 6700HQ 2.6GHz', 'Intel Core i3 6100U 2.3GHz', 'AMD A10-Series 9620P 2.5GHz', 'AMD E-Series 7110 1.8GHz', 'Intel Celeron Dual Core N3350 2.0GHz', 'AMD A9-Series A9-9420 3GHz', 'Intel Core i7 6820HK 2.7GHz', 'Intel Core M 7Y30 1.0GHz', 'Intel Xeon E3-1535M v6 3.1GHz', 'Intel Celeron Quad Core N3160 1.6GHz', 'Intel Core i5 6300U 2.4GHz', 'Intel Core i3 6100U 2.1GHz', 'AMD E-Series E2-9000 2.2GHz', 'Intel Celeron Dual Core N3050 1.6GHz', 'Intel Core M M3-6Y30 0.9GHz', 'AMD A9-Series 9420 2.9GHz', 'Intel Core i5 6300HQ 2.3GHz', 'AMD A6-Series 7310 2GHz', 'Intel Atom Z8350 1.92GHz', 'Intel Xeon E3-1535M v5 2.9GHz', 'Intel Core i5 6260U 1.8GHz', 'Intel Pentium Dual Core N4200 1.1GHz', 'Intel Celeron Quad Core N3710 1.6GHz', 'Intel Core M 1.2GHz', 'AMD A12-Series 9700P 2.5GHz', 'Intel Core i7 7500U 2.5GHz', 'Intel Pentium Dual Core 4405U 2.1GHz', 'AMD A4-Series 7210 2.2GHz', 'Intel Core i7 6560U 2.2GHz', 'Intel Core M m7-6Y75 1.2GHz', 'AMD FX 8800P 2.1GHz', 'Intel Core M M7-6Y75 1.2GHz', 'Intel Core i5 7200U 2.50GHz', 'Intel Core i5 7200U 2.70GHz', 'Intel Atom X5-Z8350 1.44GHz', 'Intel Core i5 7200U 2.7GHz', 'Intel Core M 1.1GHz', 'Intel Pentium Dual Core 4405Y 1.5GHz', 'Intel Pentium Quad Core N3700 1.6GHz', 'Intel Core M 6Y54 1.1GHz', 'Intel Core i7 6500U 2.50GHz', 'Intel Celeron Dual Core N3350 2GHz', 'Samsung Cortex A72&A53 2.0GHz', 'AMD E-Series 9000 2.2GHz', 'Intel Core M 6Y30 0.9GHz', 'AMD A9-Series 9410 2.9GHz']\n"
     ]
    }
   ],
   "source": [
    "import pandas as pd\n",
    "\n",
    "# Load dataset\n",
    "df = pd.read_csv('laptop_data.csv')\n",
    "\n",
    "# Extract unique values\n",
    "brands = df['Company'].unique().tolist()\n",
    "types = df['TypeName'].unique().tolist()\n",
    "processors = df['Cpu'].unique().tolist()\n",
    "\n",
    "# Print extracted data\n",
    "print(\"Brands:\", brands)\n",
    "print(\"Types:\", types)\n",
    "print(\"Processors:\", processors)\n"
   ]
  },
  {
   "cell_type": "code",
   "execution_count": 4,
   "id": "71076fb0-db59-4afc-a81c-caa5582d53cc",
   "metadata": {},
   "outputs": [
    {
     "name": "stdout",
     "output_type": "stream",
     "text": [
      "Brands: ['Apple', 'HP', 'Acer', 'Asus', 'Dell', 'Lenovo', 'Chuwi', 'MSI', 'Microsoft', 'Toshiba', 'Huawei', 'Xiaomi', 'Vero', 'Razer', 'Mediacom', 'Samsung', 'Google', 'Fujitsu', 'LG']\n",
      "Types: ['Ultrabook', 'Notebook', 'Netbook', 'Gaming', '2 in 1 Convertible', 'Workstation']\n",
      "Processors: ['Intel Core i5 2.3GHz', 'Intel Core i5 1.8GHz', 'Intel Core i5 7200U 2.5GHz', 'Intel Core i7 2.7GHz', 'Intel Core i5 3.1GHz', 'AMD A9-Series 9420 3GHz', 'Intel Core i7 2.2GHz', 'Intel Core i7 8550U 1.8GHz', 'Intel Core i5 8250U 1.6GHz', 'Intel Core i3 6006U 2GHz', 'Intel Core i7 2.8GHz', 'Intel Core M m3 1.2GHz', 'Intel Core i7 7500U 2.7GHz', 'Intel Core i7 2.9GHz', 'Intel Core i3 7100U 2.4GHz', 'Intel Atom x5-Z8350 1.44GHz', 'Intel Core i5 7300HQ 2.5GHz', 'AMD E-Series E2-9000e 1.5GHz', 'Intel Core i5 1.6GHz', 'Intel Core i7 8650U 1.9GHz', 'Intel Atom x5-Z8300 1.44GHz', 'AMD E-Series E2-6110 1.5GHz', 'AMD A6-Series 9220 2.5GHz', 'Intel Celeron Dual Core N3350 1.1GHz', 'Intel Core i3 7130U 2.7GHz', 'Intel Core i7 7700HQ 2.8GHz', 'Intel Core i5 2.0GHz', 'AMD Ryzen 1700 3GHz', 'Intel Pentium Quad Core N4200 1.1GHz', 'Intel Atom x5-Z8550 1.44GHz', 'Intel Celeron Dual Core N3060 1.6GHz', 'Intel Core i5 1.3GHz', 'AMD FX 9830P 3GHz', 'Intel Core i7 7560U 2.4GHz', 'AMD E-Series 6110 1.5GHz', 'Intel Core i5 6200U 2.3GHz', 'Intel Core M 6Y75 1.2GHz', 'Intel Core i5 7500U 2.7GHz', 'Intel Core i3 6006U 2.2GHz', 'AMD A6-Series 9220 2.9GHz', 'Intel Core i7 6920HQ 2.9GHz', 'Intel Core i5 7Y54 1.2GHz', 'Intel Core i7 7820HK 2.9GHz', 'Intel Xeon E3-1505M V6 3GHz', 'Intel Core i7 6500U 2.5GHz', 'AMD E-Series 9000e 1.5GHz', 'AMD A10-Series A10-9620P 2.5GHz', 'AMD A6-Series A6-9220 2.5GHz', 'Intel Core i5 2.9GHz', 'Intel Core i7 6600U 2.6GHz', 'Intel Core i3 6006U 2.0GHz', 'Intel Celeron Dual Core 3205U 1.5GHz', 'Intel Core i7 7820HQ 2.9GHz', 'AMD A10-Series 9600P 2.4GHz', 'Intel Core i7 7600U 2.8GHz', 'AMD A8-Series 7410 2.2GHz', 'Intel Celeron Dual Core 3855U 1.6GHz', 'Intel Pentium Quad Core N3710 1.6GHz', 'AMD A12-Series 9720P 2.7GHz', 'Intel Core i5 7300U 2.6GHz', 'AMD A12-Series 9720P 3.6GHz', 'Intel Celeron Quad Core N3450 1.1GHz', 'Intel Celeron Dual Core N3060 1.60GHz', 'Intel Core i5 6440HQ 2.6GHz', 'Intel Core i7 6820HQ 2.7GHz', 'AMD Ryzen 1600 3.2GHz', 'Intel Core i7 7Y75 1.3GHz', 'Intel Core i5 7440HQ 2.8GHz', 'Intel Core i7 7660U 2.5GHz', 'Intel Core i7 7700HQ 2.7GHz', 'Intel Core M m3-7Y30 2.2GHz', 'Intel Core i5 7Y57 1.2GHz', 'Intel Core i7 6700HQ 2.6GHz', 'Intel Core i3 6100U 2.3GHz', 'AMD A10-Series 9620P 2.5GHz', 'AMD E-Series 7110 1.8GHz', 'Intel Celeron Dual Core N3350 2.0GHz', 'AMD A9-Series A9-9420 3GHz', 'Intel Core i7 6820HK 2.7GHz', 'Intel Core M 7Y30 1.0GHz', 'Intel Xeon E3-1535M v6 3.1GHz', 'Intel Celeron Quad Core N3160 1.6GHz', 'Intel Core i5 6300U 2.4GHz', 'Intel Core i3 6100U 2.1GHz', 'AMD E-Series E2-9000 2.2GHz', 'Intel Celeron Dual Core N3050 1.6GHz', 'Intel Core M M3-6Y30 0.9GHz', 'AMD A9-Series 9420 2.9GHz', 'Intel Core i5 6300HQ 2.3GHz', 'AMD A6-Series 7310 2GHz', 'Intel Atom Z8350 1.92GHz', 'Intel Xeon E3-1535M v5 2.9GHz', 'Intel Core i5 6260U 1.8GHz', 'Intel Pentium Dual Core N4200 1.1GHz', 'Intel Celeron Quad Core N3710 1.6GHz', 'Intel Core M 1.2GHz', 'AMD A12-Series 9700P 2.5GHz', 'Intel Core i7 7500U 2.5GHz', 'Intel Pentium Dual Core 4405U 2.1GHz', 'AMD A4-Series 7210 2.2GHz', 'Intel Core i7 6560U 2.2GHz', 'Intel Core M m7-6Y75 1.2GHz', 'AMD FX 8800P 2.1GHz', 'Intel Core M M7-6Y75 1.2GHz', 'Intel Core i5 7200U 2.50GHz', 'Intel Core i5 7200U 2.70GHz', 'Intel Atom X5-Z8350 1.44GHz', 'Intel Core i5 7200U 2.7GHz', 'Intel Core M 1.1GHz', 'Intel Pentium Dual Core 4405Y 1.5GHz', 'Intel Pentium Quad Core N3700 1.6GHz', 'Intel Core M 6Y54 1.1GHz', 'Intel Core i7 6500U 2.50GHz', 'Intel Celeron Dual Core N3350 2GHz', 'Samsung Cortex A72&A53 2.0GHz', 'AMD E-Series 9000 2.2GHz', 'Intel Core M 6Y30 0.9GHz', 'AMD A9-Series 9410 2.9GHz']\n",
      "RAM Options: ['8GB', '16GB', '4GB', '2GB', '12GB', '6GB', '32GB', '24GB', '64GB']\n",
      "Weights: ['1.37kg', '1.34kg', '1.86kg', '1.83kg', '2.1kg', '2.04kg', '1.3kg', '1.6kg', '2.2kg', '0.92kg', '1.22kg', '0.98kg', '2.5kg', '1.62kg', '1.91kg', '2.3kg', '1.35kg', '1.88kg', '1.89kg', '1.65kg', '2.71kg', '1.2kg', '1.44kg', '2.8kg', '2kg', '2.65kg', '2.77kg', '3.2kg', '0.69kg', '1.49kg', '2.4kg', '2.13kg', '2.43kg', '1.7kg', '1.4kg', '1.8kg', '1.9kg', '3kg', '1.252kg', '2.7kg', '2.02kg', '1.63kg', '1.96kg', '1.21kg', '2.45kg', '1.25kg', '1.5kg', '2.62kg', '1.38kg', '1.58kg', '1.85kg', '1.23kg', '1.26kg', '2.16kg', '2.36kg', '2.05kg', '1.32kg', '1.75kg', '0.97kg', '2.9kg', '2.56kg', '1.48kg', '1.74kg', '1.1kg', '1.56kg', '2.03kg', '1.05kg', '4.4kg', '1.90kg', '1.29kg', '2.0kg', '1.95kg', '2.06kg', '1.12kg', '1.42kg', '3.49kg', '3.35kg', '2.23kg', '4.42kg', '2.69kg', '2.37kg', '4.7kg', '3.6kg', '2.08kg', '4.3kg', '1.68kg', '1.41kg', '4.14kg', '2.18kg', '2.24kg', '2.67kg', '2.14kg', '1.36kg', '2.25kg', '2.15kg', '2.19kg', '2.54kg', '3.42kg', '1.28kg', '2.33kg', '1.45kg', '2.79kg', '1.84kg', '2.6kg', '2.26kg', '3.25kg', '1.59kg', '1.13kg', '1.78kg', '1.10kg', '1.15kg', '1.27kg', '1.43kg', '2.31kg', '1.16kg', '1.64kg', '2.17kg', '1.47kg', '3.78kg', '1.79kg', '0.91kg', '1.99kg', '4.33kg', '1.93kg', '1.87kg', '2.63kg', '3.4kg', '3.14kg', '1.94kg', '1.24kg', '4.6kg', '4.5kg', '2.73kg', '1.39kg', '2.29kg', '2.59kg', '2.94kg', '1.14kg', '3.8kg', '3.31kg', '1.09kg', '3.21kg', '1.19kg', '1.98kg', '1.17kg', '4.36kg', '1.71kg', '2.32kg', '4.2kg', '1.55kg', '0.81kg', '1.18kg', '2.72kg', '1.31kg', '0.920kg', '3.74kg', '1.76kg', '1.54kg', '2.83kg', '2.07kg', '2.38kg', '3.58kg', '1.08kg', '2.20kg', '2.75kg', '1.70kg', '2.99kg', '1.11kg', '2.09kg', '4kg', '3.0kg', '0.99kg', '3.52kg', '2.591kg', '2.21kg', '3.3kg', '2.191kg', '2.34kg', '4.0kg']\n",
      "Screen Sizes: [13.3, 15.6, 15.4, 14.0, 12.0, 11.6, 17.3, 10.1, 13.5, 12.5, 13.0, 18.4, 13.9, 12.3, 17.0, 15.0, 14.1, 11.3]\n",
      "Resolutions: ['IPS Panel Retina Display 2560x1600', '1440x900', 'Full HD 1920x1080', 'IPS Panel Retina Display 2880x1800', '1366x768', 'IPS Panel Full HD 1920x1080', 'IPS Panel Retina Display 2304x1440', 'IPS Panel Full HD / Touchscreen 1920x1080', 'Full HD / Touchscreen 1920x1080', 'Touchscreen / Quad HD+ 3200x1800', 'IPS Panel Touchscreen 1920x1200', 'Touchscreen 2256x1504', 'Quad HD+ / Touchscreen 3200x1800', 'IPS Panel 1366x768', 'IPS Panel 4K Ultra HD / Touchscreen 3840x2160', 'IPS Panel Full HD 2160x1440', '4K Ultra HD / Touchscreen 3840x2160', 'Touchscreen 2560x1440', '1600x900', 'IPS Panel 4K Ultra HD 3840x2160', '4K Ultra HD 3840x2160', 'Touchscreen 1366x768', 'IPS Panel Full HD 1366x768', 'IPS Panel 2560x1440', 'IPS Panel Full HD 2560x1440', 'IPS Panel Retina Display 2736x1824', 'Touchscreen 2400x1600', '2560x1440', 'IPS Panel Quad HD+ 2560x1440', 'IPS Panel Quad HD+ 3200x1800', 'IPS Panel Quad HD+ / Touchscreen 3200x1800', 'IPS Panel Touchscreen 1366x768', '1920x1080', 'IPS Panel Full HD 1920x1200', 'IPS Panel Touchscreen / 4K Ultra HD 3840x2160', 'IPS Panel Touchscreen 2560x1440', 'Touchscreen / Full HD 1920x1080', 'Quad HD+ 3200x1800', 'Touchscreen / 4K Ultra HD 3840x2160', 'IPS Panel Touchscreen 2400x1600']\n",
      "Storage Options: ['128GB SSD', '128GB Flash Storage', '256GB SSD', '512GB SSD', '500GB HDD', '256GB Flash Storage', '1TB HDD', '32GB Flash Storage', '128GB SSD +  1TB HDD', '256GB SSD +  256GB SSD', '64GB Flash Storage', '256GB SSD +  1TB HDD', '256GB SSD +  2TB HDD', '32GB SSD', '2TB HDD', '64GB SSD', '1.0TB Hybrid', '512GB SSD +  1TB HDD', '1TB SSD', '256GB SSD +  500GB HDD', '128GB SSD +  2TB HDD', '512GB SSD +  512GB SSD', '16GB SSD', '16GB Flash Storage', '512GB SSD +  256GB SSD', '512GB SSD +  2TB HDD', '64GB Flash Storage +  1TB HDD', '180GB SSD', '1TB HDD +  1TB HDD', '32GB HDD', '1TB SSD +  1TB HDD', '512GB Flash Storage', '128GB HDD', '240GB SSD', '8GB SSD', '508GB Hybrid', '1.0TB HDD', '512GB SSD +  1.0TB Hybrid', '256GB SSD +  1.0TB Hybrid']\n",
      "GPUs: ['Intel Iris Plus Graphics 640', 'Intel HD Graphics 6000', 'Intel HD Graphics 620', 'AMD Radeon Pro 455', 'Intel Iris Plus Graphics 650', 'AMD Radeon R5', 'Intel Iris Pro Graphics', 'Nvidia GeForce MX150', 'Intel UHD Graphics 620', 'Intel HD Graphics 520', 'AMD Radeon Pro 555', 'AMD Radeon R5 M430', 'Intel HD Graphics 615', 'AMD Radeon Pro 560', 'Nvidia GeForce 940MX', 'Intel HD Graphics 400', 'Nvidia GeForce GTX 1050', 'AMD Radeon R2', 'AMD Radeon 530', 'Nvidia GeForce 930MX', 'Intel HD Graphics', 'Intel HD Graphics 500', 'Nvidia GeForce 930MX ', 'Nvidia GeForce GTX 1060', 'Nvidia GeForce 150MX', 'Intel Iris Graphics 540', 'AMD Radeon RX 580', 'Nvidia GeForce 920MX', 'AMD Radeon R4 Graphics', 'AMD Radeon 520', 'Nvidia GeForce GTX 1070', 'Nvidia GeForce GTX 1050 Ti', 'Nvidia GeForce MX130', 'AMD R4 Graphics', 'Nvidia GeForce GTX 940MX', 'AMD Radeon RX 560', 'Nvidia GeForce 920M', 'AMD Radeon R7 M445', 'AMD Radeon RX 550', 'Nvidia GeForce GTX 1050M', 'Intel HD Graphics 515', 'AMD Radeon R5 M420', 'Intel HD Graphics 505', 'Nvidia GTX 980 SLI', 'AMD R17M-M1-70', 'Nvidia GeForce GTX 1080', 'Nvidia Quadro M1200', 'Nvidia GeForce 920MX ', 'Nvidia GeForce GTX 950M', 'AMD FirePro W4190M ', 'Nvidia GeForce GTX 980M', 'Intel Iris Graphics 550', 'Nvidia GeForce 930M', 'Intel HD Graphics 630', 'AMD Radeon R5 430', 'Nvidia GeForce GTX 940M', 'Intel HD Graphics 510', 'Intel HD Graphics 405', 'AMD Radeon RX 540', 'Nvidia GeForce GT 940MX', 'AMD FirePro W5130M', 'Nvidia Quadro M2200M', 'AMD Radeon R4', 'Nvidia Quadro M620', 'AMD Radeon R7 M460', 'Intel HD Graphics 530', 'Nvidia GeForce GTX 965M', 'Nvidia GeForce GTX1080', 'Nvidia GeForce GTX1050 Ti', 'Nvidia GeForce GTX 960M', 'AMD Radeon R2 Graphics', 'Nvidia Quadro M620M', 'Nvidia GeForce GTX 970M', 'Nvidia GeForce GTX 960<U+039C>', 'Intel Graphics 620', 'Nvidia GeForce GTX 960', 'AMD Radeon R5 520', 'AMD Radeon R7 M440', 'AMD Radeon R7', 'Nvidia Quadro M520M', 'Nvidia Quadro M2200', 'Nvidia Quadro M2000M', 'Intel HD Graphics 540', 'Nvidia Quadro M1000M', 'AMD Radeon 540', 'Nvidia GeForce GTX 1070M', 'Nvidia GeForce GTX1060', 'Intel HD Graphics 5300', 'AMD Radeon R5 M420X', 'AMD Radeon R7 Graphics', 'Nvidia GeForce 920', 'Nvidia GeForce 940M', 'Nvidia GeForce GTX 930MX', 'AMD Radeon R7 M465', 'AMD Radeon R3', 'Nvidia GeForce GTX 1050Ti', 'AMD Radeon R7 M365X', 'AMD Radeon R9 M385', 'Intel HD Graphics 620 ', 'Nvidia Quadro 3000M', 'Nvidia GeForce GTX 980 ', 'AMD Radeon R5 M330', 'AMD FirePro W4190M', 'AMD FirePro W6150M', 'AMD Radeon R5 M315', 'Nvidia Quadro M500M', 'AMD Radeon R7 M360', 'Nvidia Quadro M3000M', 'Nvidia GeForce 960M', 'ARM Mali T860 MP4']\n",
      "Operating Systems: ['macOS', 'No OS', 'Windows 10', 'Mac OS X', 'Linux', 'Android', 'Windows 10 S', 'Chrome OS', 'Windows 7']\n"
     ]
    }
   ],
   "source": [
    "import pandas as pd\n",
    "\n",
    "# Load dataset\n",
    "df = pd.read_csv('laptop_data.csv')\n",
    "\n",
    "# Extract unique values for dropdowns\n",
    "brands = df['Company'].unique().tolist()\n",
    "types = df['TypeName'].unique().tolist()\n",
    "processors = df['Cpu'].unique().tolist()\n",
    "rams = df['Ram'].unique().tolist()\n",
    "weights = df['Weight'].unique().tolist()\n",
    "screen_sizes = df['Inches'].unique().tolist()\n",
    "resolutions = df['ScreenResolution'].unique().tolist()\n",
    "storage = df['Memory'].unique().tolist()\n",
    "gpus = df['Gpu'].unique().tolist()\n",
    "os_types = df['OpSys'].unique().tolist()\n",
    "\n",
    "# Print extracted values\n",
    "print(\"Brands:\", brands)\n",
    "print(\"Types:\", types)\n",
    "print(\"Processors:\", processors)\n",
    "print(\"RAM Options:\", rams)\n",
    "print(\"Weights:\", weights)\n",
    "print(\"Screen Sizes:\", screen_sizes)\n",
    "print(\"Resolutions:\", resolutions)\n",
    "print(\"Storage Options:\", storage)\n",
    "print(\"GPUs:\", gpus)\n",
    "print(\"Operating Systems:\", os_types)\n"
   ]
  },
  {
   "cell_type": "code",
   "execution_count": null,
   "id": "bd4ed7c3-ecc8-44cf-aadd-3c8a968fdfd9",
   "metadata": {},
   "outputs": [],
   "source": []
  }
 ],
 "metadata": {
  "kernelspec": {
   "display_name": "Python 3 (ipykernel)",
   "language": "python",
   "name": "python3"
  },
  "language_info": {
   "codemirror_mode": {
    "name": "ipython",
    "version": 3
   },
   "file_extension": ".py",
   "mimetype": "text/x-python",
   "name": "python",
   "nbconvert_exporter": "python",
   "pygments_lexer": "ipython3",
   "version": "3.13.2"
  }
 },
 "nbformat": 4,
 "nbformat_minor": 5
}
