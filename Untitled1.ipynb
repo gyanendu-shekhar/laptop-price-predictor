{
 "cells": [
  {
   "cell_type": "code",
   "execution_count": 1,
   "id": "ce382e32-d9b5-4f6d-9ecb-5c08aa1129ab",
   "metadata": {},
   "outputs": [
    {
     "name": "stdout",
     "output_type": "stream",
     "text": [
      "  Company   TypeName  Ram  Weight        Price  TouchScreen  IPS         ppi  \\\n",
      "0   Apple  Ultrabook    8    1.37   71378.6832            0    1  226.983005   \n",
      "1   Apple  Ultrabook    8    1.34   47895.5232            0    0  127.677940   \n",
      "2      HP   Notebook    8    1.86   30636.0000            0    0  141.211998   \n",
      "3   Apple  Ultrabook   16    1.83  135195.3360            0    1  220.534624   \n",
      "4   Apple  Ultrabook    8    1.37   96095.8080            0    1  226.983005   \n",
      "\n",
      "       CPU Brand  HDD  SSD GPU Brand                  os  \n",
      "0  Intel Core i5    0  128     Intel                 Mac  \n",
      "1  Intel Core i5    0    0     Intel                 Mac  \n",
      "2  Intel Core i5    0  256     Intel  Others/No OS/Linux  \n",
      "3  Intel Core i7    0  512       AMD                 Mac  \n",
      "4  Intel Core i5    0  256     Intel                 Mac  \n",
      "Index(['Company', 'TypeName', 'Ram', 'Weight', 'Price', 'TouchScreen', 'IPS',\n",
      "       'ppi', 'CPU Brand', 'HDD', 'SSD', 'GPU Brand', 'os'],\n",
      "      dtype='object')\n"
     ]
    }
   ],
   "source": [
    "import pickle\n",
    "\n",
    "# Load the DataFrame from the pickle file\n",
    "df = pickle.load(open('df.pkl', 'rb'))\n",
    "\n",
    "# Display the first few rows\n",
    "print(df.head())\n",
    "\n",
    "# Display all column names\n",
    "print(df.columns)\n"
   ]
  },
  {
   "cell_type": "code",
   "execution_count": null,
   "id": "31532f9f-acaa-4047-9d49-b3d86a750a8f",
   "metadata": {},
   "outputs": [],
   "source": []
  }
 ],
 "metadata": {
  "kernelspec": {
   "display_name": "Python 3 (ipykernel)",
   "language": "python",
   "name": "python3"
  },
  "language_info": {
   "codemirror_mode": {
    "name": "ipython",
    "version": 3
   },
   "file_extension": ".py",
   "mimetype": "text/x-python",
   "name": "python",
   "nbconvert_exporter": "python",
   "pygments_lexer": "ipython3",
   "version": "3.13.2"
  }
 },
 "nbformat": 4,
 "nbformat_minor": 5
}
